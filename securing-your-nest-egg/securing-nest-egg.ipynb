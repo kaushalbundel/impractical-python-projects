{
 "cells": [
  {
   "cell_type": "markdown",
   "id": "0d39062e-94f3-45fb-a1dc-11e3e4442e7c",
   "metadata": {},
   "source": [
    "# Making nest egg calculator\n",
    "\n",
    "The nest can calculator is being made with the US data but can be easily created if the data is replaced for IN stock market, bond market and inflation rate.\n",
    "\n",
    "### Input Parameters:\n",
    "\n",
    "- Calculation Parameters\n",
    "\n",
    "    - Total returns for the S&P 500 (for calculating stock returns)\n",
    "    - Total returns for 10 year old treasury bills (for calculating bond returns)\n",
    "    - Rate of three months Tresury bills (for calculating returns with Money in hand)\n",
    "    - S/B blend (\"stock\" vs \"bond\" blend in a 50% ratio)\n",
    "    - S/B/C blend(\"stock\" vs \"bond\" vs \"Cash\" blend in 40-50-10 ratio)\n",
    "    - Annual inflation rate\n",
    "\n",
    "- User Parameters\n",
    "\n",
    "    - Type of investment\n",
    "    - Starting value of investment (What is the total investment corpus at the start of the retirement period)\n",
    "    - Yearly withdrawl amount\n",
    "    - Input for max, min and most likely duration of retirement\n",
    "    - The number of cases to run\n",
    "    \n",
    "### Program Structure\n",
    "\n",
    "    - Input\n",
    "        - Mentioned above\n",
    "        \n",
    "    - Output\n",
    "        - the final investment amount after specific number of years or getting bankrupt (which ever is the possible explaination)\n",
    "    \n",
    "    - Process\n",
    "        - asking the user to choose input variables\n",
    "        - referring the investment type and starting value of the investment that the user has chosen in the calculation\n",
    "        - Running Monte-Carlo simulation\n",
    "            - maintain two lists (Final result and bankrupt to capture the two individual scenarios)\n",
    "            - For each of the number of simulations:\n",
    "                - randomly determine the start year of the simulation\n",
    "                - randomly determine the duration of the retirement(time period before death)\n",
    "                - duration of the life time can be calculated by adding the duration to the start year\n",
    "                - randomly determine the duration of the retirement using random.triangulation\n",
    "                - as per the duration of the retirement determine the inflation\n",
    "                - the distribution of the period, will correspond to the randomly selected period in:\n",
    "                    - the investment type data (for bonds as a inflation type, use the 10-yr bond data and so on)\n",
    "                    - the inflation data\n",
    "                - From the starting value of investment, deduct the monthly takeout\n",
    "                - For the remaining amount, deduct/add the investment return\n",
    "                - For the remaining amount, deduct/add the inflation (this amount will be used to calculate the result for the next year)\n",
    "                - This loop to be repeated untill the end of the said period or if the case went bankrupt\n",
    "            - Repeat the above for the number of simulations defined\n"
   ]
  },
  {
   "cell_type": "code",
   "execution_count": 46,
   "id": "80a37c89-4a6d-445b-a68c-0d0a949ad4f0",
   "metadata": {
    "tags": []
   },
   "outputs": [],
   "source": [
    "import random\n",
    "import matplotlib.pyplot as plt"
   ]
  },
  {
   "cell_type": "code",
   "execution_count": 47,
   "id": "e155b24c-4bef-4ad3-9f38-31ccf7d3d88b",
   "metadata": {
    "tags": []
   },
   "outputs": [],
   "source": [
    "def read_from_file(file_name):\n",
    "    \"\"\"read from the text file, convert the % to decimal and return a list\"\"\"\n",
    "    with open(file_name) as file:\n",
    "        lines = [float(line.strip()) for line in file] # removing whitespace\n",
    "        data = [round(line / 100, 5) for line in lines] # converting % to decimal numbers\n",
    "        return data"
   ]
  },
  {
   "cell_type": "code",
   "execution_count": 75,
   "id": "157aadda-0bc0-4490-88e4-334f65ada1ee",
   "metadata": {
    "tags": []
   },
   "outputs": [],
   "source": [
    "def default_input(prompt, default = None):\n",
    "    \"\"\"capture the user inputs, returns prompt or default if prompt is None\"\"\"\n",
    "    info = f\"{prompt} [{default}]\"\n",
    "    response = input(prompt)\n",
    "    if not response and default:\n",
    "        return default\n",
    "    else:\n",
    "        return response\n"
   ]
  },
  {
   "cell_type": "markdown",
   "id": "7bb70f79-cc2e-4e9f-b6ed-2d6b926aaea9",
   "metadata": {},
   "source": [
    "## Loading the data"
   ]
  },
  {
   "cell_type": "code",
   "execution_count": 49,
   "id": "2846da23-7198-43f0-a73d-645044b72092",
   "metadata": {
    "tags": []
   },
   "outputs": [],
   "source": [
    "# Note: All the input data should be in \"%\" only\n",
    "# Note 2: All the conversion would be done in the input function only\n",
    "bonds = read_from_file('10-yr_TBond_returns_1926-2013_pct.txt')\n",
    "stocks = read_from_file('SP500_returns_1926-2013_pct.txt')\n",
    "blend_50_50 = read_from_file('S-B_blend_1926-2013_pct.txt')\n",
    "blend_40_50_10 = read_from_file('S-B-C_blend_1926-2013_pct.txt')\n",
    "cash = read_from_file('3_mo_TBill_rate_1926-2013_pct.txt')\n",
    "inflation = read_from_file('annual_infl_rate_1926-2013_pct.txt')\n"
   ]
  },
  {
   "cell_type": "markdown",
   "id": "b033b7b2-f376-4a07-a103-0865105bf2ba",
   "metadata": {},
   "source": [
    "## Loading and validating the User data"
   ]
  },
  {
   "cell_type": "code",
   "execution_count": 50,
   "id": "5a48a6b1-b2d7-4c0f-99cc-a66df3c98012",
   "metadata": {
    "tags": []
   },
   "outputs": [
    {
     "name": "stdout",
     "output_type": "stream",
     "text": [
      " bonds = 10 Year treasury Bonds\n",
      " stocks = SP 500\n",
      " sb_blend = 50% stocks and 50% Bonds\n",
      " sbc_blend = 40% stocks, 50% bonds and 10% cash\n",
      "\n",
      " Please enter the value of the investments or accept the default value!\n"
     ]
    }
   ],
   "source": [
    "investment_type_args = {'bonds': bonds, 'stocks': stocks, 'sb_blend': blend_50_50, 'sbc_blend':blend_40_50_10}\n",
    "\n",
    "# user support legends\n",
    "\n",
    "print(\" bonds = 10 Year treasury Bonds\")\n",
    "print(\" stocks = SP 500\")\n",
    "print(\" sb_blend = 50% stocks and 50% Bonds\")\n",
    "print(\" sbc_blend = 40% stocks, 50% bonds and 10% cash\")\n",
    "\n",
    "print(\"\\n Please enter the value of the investments or accept the default value!\")\n"
   ]
  },
  {
   "cell_type": "code",
   "execution_count": 101,
   "id": "23c7536e-6429-470e-a7ad-76a208326542",
   "metadata": {
    "tags": []
   },
   "outputs": [
    {
     "name": "stdin",
     "output_type": "stream",
     "text": [
      "Please enter the type of investment you wish to make \n",
      "(options: bonds, stocks, sb_blend and sbc_blend)\n",
      " stocks\n"
     ]
    }
   ],
   "source": [
    "# entering the value of bonds\n",
    "\n",
    "investment_type = default_input(\"Please enter the type of investment you wish to make \\n(options: bonds, stocks, sb_blend and sbc_blend)\\n\", 'bonds').lower()"
   ]
  },
  {
   "cell_type": "code",
   "execution_count": 102,
   "id": "d370555e-ec1b-45a8-8dcf-54fc9539e26a",
   "metadata": {},
   "outputs": [
    {
     "name": "stdin",
     "output_type": "stream",
     "text": [
      "Please enter the starting investment value.\n",
      " 50000000\n"
     ]
    }
   ],
   "source": [
    "start_value = default_input(\"Please enter the starting investment value.\\n\",2000000)"
   ]
  },
  {
   "cell_type": "code",
   "execution_count": 103,
   "id": "0296e00e-cd65-47ce-bd36-009a6b6f7489",
   "metadata": {
    "tags": []
   },
   "outputs": [
    {
     "name": "stdin",
     "output_type": "stream",
     "text": [
      "Please enter the Yearly withdrawl amount.\n",
      " 1000000\n"
     ]
    }
   ],
   "source": [
    "withdrawl = default_input(\"Please enter the Yearly withdrawl amount.\\n\", 1000000)"
   ]
  },
  {
   "cell_type": "code",
   "execution_count": 104,
   "id": "7c0a53b8-4a26-4e17-a31e-95477ca1d01a",
   "metadata": {
    "tags": []
   },
   "outputs": [
    {
     "name": "stdin",
     "output_type": "stream",
     "text": [
      "Please enter the mininum years of retirement.\n",
      " 20\n"
     ]
    }
   ],
   "source": [
    "min_years = default_input(\"Please enter the mininum years of retirement.\\n\", 10)"
   ]
  },
  {
   "cell_type": "code",
   "execution_count": 105,
   "id": "945e0ddc-72aa-4376-bd41-e42d1ab0a2d9",
   "metadata": {
    "tags": []
   },
   "outputs": [
    {
     "name": "stdin",
     "output_type": "stream",
     "text": [
      "Please enter the most likely years of retirement.\n",
      " 25\n"
     ]
    }
   ],
   "source": [
    "most_likely_years = default_input(\"Please enter the most likely years of retirement.\\n\", 15)"
   ]
  },
  {
   "cell_type": "code",
   "execution_count": 106,
   "id": "f5b8c8e3-a379-4862-b870-e7aef7e77b82",
   "metadata": {
    "tags": []
   },
   "outputs": [
    {
     "name": "stdin",
     "output_type": "stream",
     "text": [
      "Please enter the max years of retirement.\n",
      " 30\n"
     ]
    }
   ],
   "source": [
    "max_years = default_input(\"Please enter the max years of retirement.\\n\", 20)"
   ]
  },
  {
   "cell_type": "code",
   "execution_count": 115,
   "id": "58309cb8-d26e-4840-a8ef-465cde0e8d1e",
   "metadata": {
    "tags": []
   },
   "outputs": [
    {
     "name": "stdin",
     "output_type": "stream",
     "text": [
      "Please enter the simulation count.\n",
      " 10\n"
     ]
    }
   ],
   "source": [
    "num_cases = default_input(\"Please enter the simulation count.\\n\", 50000)"
   ]
  },
  {
   "cell_type": "markdown",
   "id": "8d30c1d9-5907-47e7-b449-069e9b2b2e6a",
   "metadata": {},
   "source": [
    "## Running Monte-Carlo simulation"
   ]
  },
  {
   "cell_type": "code",
   "execution_count": 150,
   "id": "543ba639-a448-4263-8b81-48107620fde9",
   "metadata": {},
   "outputs": [],
   "source": [
    "def montecarlo(returns):\n",
    "    \"\"\"runs monte carlo simulation and returns end of the year investment amount and/or bankruptcy count\"\"\"\n",
    "    case_count = 0\n",
    "    bankrupt_count = 0\n",
    "    outcome = []\n",
    "    \n",
    "    while case_count < int(num_cases):\n",
    "        investments = int(start_value)\n",
    "        start_year =  random.randrange(0, len(returns))\n",
    "        duration = int(random.triangular(int(min_years), int(max_years), int(most_likely_years)))\n",
    "        end_year = start_year + duration\n",
    "        \n",
    "        lifespan = [i for i in range(start_year, end_year)]\n",
    "        print(lifespan)\n",
    "        bankrupt = \"no\"\n",
    "        \n",
    "        # building temporary list to capture the information\n",
    "        lifespan_returns = []\n",
    "        lifespan_infl = []\n",
    "        for i in lifespan:         # builds the inflation and return % on randomly selected start year and duration\n",
    "            lifespan_returns.append(returns[i % len(returns)])\n",
    "            lifespan_infl.append(inflation[i % len(inflation)])\n",
    "        print(lifespan_returns)\n",
    "        print(lifespan_infl)\n",
    "        # looping through each year of retirement and deducting inflation adjusted withdrawl amount from the investments\n",
    "        \n",
    "        for index, i in enumerate(lifespan_returns):\n",
    "            infl = lifespan_infl[index]\n",
    "\n",
    "            if index == 0:\n",
    "                withdrawl_infl_adjusted = int(withdrawl)\n",
    "            else:\n",
    "                withdrawl_infl_adjusted = (int(withdrawl_infl_adjusted) * (1 + infl))\n",
    "\n",
    "            investments -= withdrawl_infl_adjusted\n",
    "            investments = int(investments * (1 + i))\n",
    "\n",
    "            if investments <= 0:\n",
    "                bankrupt = \"yes\"\n",
    "                break\n",
    "\n",
    "        if bankrupt == \"yes\":\n",
    "            outcome.append(0)\n",
    "            bankrupt_count += 1\n",
    "        else:\n",
    "            outcome.append(investments)\n",
    "        \n",
    "        case_count += 1\n",
    "    \n",
    "    return outcome, bankrupt_count \n",
    "        \n",
    "        \n",
    "        "
   ]
  },
  {
   "cell_type": "code",
   "execution_count": 151,
   "id": "c2660a4d-b186-49e5-8992-b89202e5f7db",
   "metadata": {},
   "outputs": [],
   "source": [
    "# calculating the probablity of ruin\n",
    "\n",
    "def bankrupt_probablity(outcome, bankrupt_count):\n",
    "    total_count = len(outcome)\n",
    "    probablity_ruin = int((bankrupt_count / total_count) * 100)\n",
    "    \n",
    "    # printing all the related details\n",
    "    \n",
    "    print(f\"\\n Investment Type: {investment_type}\")\n",
    "    print(f\"\\n Starting Value: ${start_value}\")\n",
    "    print(f\"\\n Annual Withdrawl: ${withdrawl}\")\n",
    "    print(f\"\\n Probable years in retirement, max years: {max_years}, min years: {min_years} and most likely years: {most_likely_years}\")\n",
    "    print(f\"\\n Number of runs: {num_cases}\")\n",
    "    print(f\"\\n Odds of money run out: {probablity_ruin}%\")\n",
    "    print(f\"\\n Average outcome: ${sum(outcome) / len(outcome) }\")\n",
    "    print(f\"\\n Maximum outcome: ${max(outcome)}\")\n",
    "    print(f\"\\n Minimum outcome: ${min(outcome)}\")\n",
    "    \n",
    "    return probablity_ruin"
   ]
  },
  {
   "cell_type": "code",
   "execution_count": 152,
   "id": "5d05d059-b247-4b1f-af15-2560328c0f82",
   "metadata": {},
   "outputs": [
    {
     "name": "stdout",
     "output_type": "stream",
     "text": [
      "[39, 40, 41, 42, 43, 44, 45, 46, 47, 48, 49, 50, 51, 52, 53, 54, 55, 56, 57, 58, 59]\n",
      "[0.124, -0.1, 0.238, 0.108, -0.082, 0.036, 0.142, 0.188, -0.143, -0.259, 0.37, 0.238, -0.07, 0.065, 0.185, 0.317, -0.047, 0.204, 0.223, 0.061, 0.312]\n",
      "[0.0159, 0.0301, 0.0278, 0.0427, 0.0546, 0.0584, 0.043, 0.0327, 0.0616, 0.1103, 0.092, 0.0575, 0.065, 0.0762, 0.1122, 0.1358, 0.1035, 0.0616, 0.0322, 0.043, 0.0355]\n",
      "[12, 13, 14, 15, 16, 17, 18, 19, 20, 21, 22, 23, 24, 25, 26, 27, 28, 29, 30, 31, 32, 33, 34, 35, 36, 37, 38]\n",
      "[0.293, -0.011, -0.107, -0.128, 0.192, 0.251, 0.19, 0.358, -0.084, 0.052, 0.057, 0.183, 0.308, 0.237, 0.182, -0.012, 0.526, 0.326, 0.074, -0.104, 0.437, 0.12, 0.003, 0.266, -0.088, 0.226, 0.164]\n",
      "[-0.0201, -0.013, 0.0073, 0.0511, 0.1097, 0.06, 0.0164, 0.0227, 0.0843, 0.1465, 0.0774, -0.0095, 0.0109, 0.0788, 0.0229, 0.0082, 0.0032, -0.0028, 0.0152, 0.0334, 0.0273, 0.0101, 0.0146, 0.0107, 0.012, 0.0124, 0.0128]\n",
      "[64, 65, 66, 67, 68, 69, 70, 71, 72, 73, 74, 75, 76, 77, 78, 79, 80, 81, 82, 83, 84]\n",
      "[-0.031, 0.302, 0.075, 0.1, 0.013, 0.372, 0.227, 0.331, 0.283, 0.209, -0.09, -0.118, -0.22, 0.284, 0.107, 0.048, 0.156, 0.055, -0.366, 0.259, 0.148]\n",
      "[0.0539, 0.0425, 0.0303, 0.0296, 0.0261, 0.0281, 0.0293, 0.0234, 0.0155, 0.0219, 0.0338, 0.0283, 0.0159, 0.0227, 0.0268, 0.0339, 0.0324, 0.0285, 0.0385, -0.0034, 0.0164]\n",
      "[36, 37, 38, 39, 40, 41, 42, 43, 44, 45, 46, 47, 48, 49, 50, 51, 52, 53, 54, 55, 56, 57, 58, 59, 60, 61]\n",
      "[-0.088, 0.226, 0.164, 0.124, -0.1, 0.238, 0.108, -0.082, 0.036, 0.142, 0.188, -0.143, -0.259, 0.37, 0.238, -0.07, 0.065, 0.185, 0.317, -0.047, 0.204, 0.223, 0.061, 0.312, 0.185, 0.058]\n",
      "[0.012, 0.0124, 0.0128, 0.0159, 0.0301, 0.0278, 0.0427, 0.0546, 0.0584, 0.043, 0.0327, 0.0616, 0.1103, 0.092, 0.0575, 0.065, 0.0762, 0.1122, 0.1358, 0.1035, 0.0616, 0.0322, 0.043, 0.0355, 0.0191, 0.0366]\n",
      "[63, 64, 65, 66, 67, 68, 69, 70, 71, 72, 73, 74, 75, 76, 77, 78, 79, 80, 81, 82, 83, 84, 85, 86, 87, 88, 89, 90]\n",
      "[0.315, -0.031, 0.302, 0.075, 0.1, 0.013, 0.372, 0.227, 0.331, 0.283, 0.209, -0.09, -0.118, -0.22, 0.284, 0.107, 0.048, 0.156, 0.055, -0.366, 0.259, 0.148, 0.021, 0.159, 0.321, 0.116, 0.375, 0.438]\n",
      "[0.0483, 0.0539, 0.0425, 0.0303, 0.0296, 0.0261, 0.0281, 0.0293, 0.0234, 0.0155, 0.0219, 0.0338, 0.0283, 0.0159, 0.0227, 0.0268, 0.0339, 0.0324, 0.0285, 0.0385, -0.0034, 0.0164, 0.0316, 0.0207, 0.0147, 0.0094, -0.0192, -0.0115]\n",
      "[27, 28, 29, 30, 31, 32, 33, 34, 35, 36, 37, 38, 39, 40, 41, 42, 43, 44, 45, 46, 47, 48, 49, 50]\n",
      "[-0.012, 0.526, 0.326, 0.074, -0.104, 0.437, 0.12, 0.003, 0.266, -0.088, 0.226, 0.164, 0.124, -0.1, 0.238, 0.108, -0.082, 0.036, 0.142, 0.188, -0.143, -0.259, 0.37, 0.238]\n",
      "[0.0082, 0.0032, -0.0028, 0.0152, 0.0334, 0.0273, 0.0101, 0.0146, 0.0107, 0.012, 0.0124, 0.0128, 0.0159, 0.0301, 0.0278, 0.0427, 0.0546, 0.0584, 0.043, 0.0327, 0.0616, 0.1103, 0.092, 0.0575]\n",
      "[48, 49, 50, 51, 52, 53, 54, 55, 56, 57, 58, 59, 60, 61, 62, 63, 64, 65, 66, 67, 68, 69, 70, 71, 72, 73, 74]\n",
      "[-0.259, 0.37, 0.238, -0.07, 0.065, 0.185, 0.317, -0.047, 0.204, 0.223, 0.061, 0.312, 0.185, 0.058, 0.165, 0.315, -0.031, 0.302, 0.075, 0.1, 0.013, 0.372, 0.227, 0.331, 0.283, 0.209, -0.09]\n",
      "[0.1103, 0.092, 0.0575, 0.065, 0.0762, 0.1122, 0.1358, 0.1035, 0.0616, 0.0322, 0.043, 0.0355, 0.0191, 0.0366, 0.0408, 0.0483, 0.0539, 0.0425, 0.0303, 0.0296, 0.0261, 0.0281, 0.0293, 0.0234, 0.0155, 0.0219, 0.0338]\n",
      "[17, 18, 19, 20, 21, 22, 23, 24, 25, 26, 27, 28, 29, 30, 31, 32, 33, 34, 35, 36, 37, 38, 39, 40, 41, 42]\n",
      "[0.251, 0.19, 0.358, -0.084, 0.052, 0.057, 0.183, 0.308, 0.237, 0.182, -0.012, 0.526, 0.326, 0.074, -0.104, 0.437, 0.12, 0.003, 0.266, -0.088, 0.226, 0.164, 0.124, -0.1, 0.238, 0.108]\n",
      "[0.06, 0.0164, 0.0227, 0.0843, 0.1465, 0.0774, -0.0095, 0.0109, 0.0788, 0.0229, 0.0082, 0.0032, -0.0028, 0.0152, 0.0334, 0.0273, 0.0101, 0.0146, 0.0107, 0.012, 0.0124, 0.0128, 0.0159, 0.0301, 0.0278, 0.0427]\n",
      "[75, 76, 77, 78, 79, 80, 81, 82, 83, 84, 85, 86, 87, 88, 89, 90, 91, 92, 93, 94, 95, 96, 97, 98, 99, 100, 101]\n",
      "[-0.118, -0.22, 0.284, 0.107, 0.048, 0.156, 0.055, -0.366, 0.259, 0.148, 0.021, 0.159, 0.321, 0.116, 0.375, 0.438, -0.086, -0.251, -0.438, -0.086, 0.5, -0.012, 0.467, 0.319, -0.353, 0.293, -0.011]\n",
      "[0.0283, 0.0159, 0.0227, 0.0268, 0.0339, 0.0324, 0.0285, 0.0385, -0.0034, 0.0164, 0.0316, 0.0207, 0.0147, 0.0094, -0.0192, -0.0115, 0.0, -0.0266, -0.0894, -0.103, -0.0509, 0.0351, 0.0256, 0.0104, 0.0373, -0.0201, -0.013]\n",
      "[72, 73, 74, 75, 76, 77, 78, 79, 80, 81, 82, 83, 84, 85, 86, 87, 88, 89, 90, 91, 92, 93, 94, 95, 96]\n",
      "[0.283, 0.209, -0.09, -0.118, -0.22, 0.284, 0.107, 0.048, 0.156, 0.055, -0.366, 0.259, 0.148, 0.021, 0.159, 0.321, 0.116, 0.375, 0.438, -0.086, -0.251, -0.438, -0.086, 0.5, -0.012]\n",
      "[0.0155, 0.0219, 0.0338, 0.0283, 0.0159, 0.0227, 0.0268, 0.0339, 0.0324, 0.0285, 0.0385, -0.0034, 0.0164, 0.0316, 0.0207, 0.0147, 0.0094, -0.0192, -0.0115, 0.0, -0.0266, -0.0894, -0.103, -0.0509, 0.0351]\n",
      "\n",
      " Investment Type: stocks\n",
      "\n",
      " Starting Value: $50000000\n",
      "\n",
      " Annual Withdrawl: $1000000\n",
      "\n",
      " Probable years in retirement, max years: 30, min years: 20 and most likely years: 25\n",
      "\n",
      " Number of runs: 10\n",
      "\n",
      " Odds of money run out: 0%\n",
      "\n",
      " Average outcome: $576318637.1\n",
      "\n",
      " Maximum outcome: $1357930878\n",
      "\n",
      " Minimum outcome: $93326725\n"
     ]
    }
   ],
   "source": [
    "outcome, bankrupt_count = montecarlo(investment_type_args[investment_type])\n",
    "odds = bankrupt_probablity(outcome, bankrupt_count)"
   ]
  },
  {
   "cell_type": "code",
   "execution_count": 147,
   "id": "e512e39f-fc8d-4b61-a574-7303f96566dc",
   "metadata": {},
   "outputs": [
    {
     "data": {
      "image/png": "[encoded data removed]",
      "text/plain": [
       "<Figure size 1600x500 with 1 Axes>"
      ]
     },
     "metadata": {},
     "output_type": "display_data"
    }
   ],
   "source": [
    "# plotting the barchart\n",
    "\n",
    "plotdata =  outcome[:3000]\n",
    "\n",
    "plt.figure(f'Outcome by {len(plotdata)} individual cases', figsize = (16,5))\n",
    "index = [i+i for i in range(len(plotdata))]\n",
    "plt.bar(index, plotdata, color = \"black\")\n",
    "plt.xlabel(\"Simulated gains (one bar for every life)\", fontsize =18)\n",
    "plt.ylabel(\"$ remaining after end of the life\", fontsize =18)\n",
    "plt.ticklabel_format(style = 'plain', axis ='y')\n",
    "\n",
    "#ax = plt.gca()\n",
    "#ax.get_yaxis().set_major_formatter(pls.FuncFormatter(lambda x, loc: f\"{:,int(x)}\"))\n",
    "\n",
    "plt.title(f\"The odds of running out of money = {odds}%\", fontsize = 20, color = 'red')\n",
    "plt.show()\n",
    "           "
   ]
  },
  {
   "cell_type": "code",
   "execution_count": 149,
   "id": "85dfd74d-cca7-4d52-97fc-320b7e56d910",
   "metadata": {},
   "outputs": [
    {
     "data": {
      "text/plain": [
       "[993520390,\n",
       " 818293310,\n",
       " 342040006,\n",
       " 134497768,\n",
       " 809619961,\n",
       " 1227585045,\n",
       " 684661616,\n",
       " 993520390,\n",
       " 404604077,\n",
       " 65027712]"
      ]
     },
     "execution_count": 149,
     "metadata": {},
     "output_type": "execute_result"
    }
   ],
   "source": [
    "outcome"
   ]
  },
  {
   "cell_type": "code",
   "execution_count": null,
   "id": "5efa8c72-588b-4692-a26c-30af087a028d",
   "metadata": {},
   "outputs": [],
   "source": []
  }
 ],
 "metadata": {
  "kernelspec": {
   "display_name": "Python 3 (ipykernel)",
   "language": "python",
   "name": "python3"
  },
  "language_info": {
   "codemirror_mode": {
    "name": "ipython",
    "version": 3
   },
   "file_extension": ".py",
   "mimetype": "text/x-python",
   "name": "python",
   "nbconvert_exporter": "python",
   "pygments_lexer": "ipython3",
   "version": "3.9.17"
  }
 },
 "nbformat": 4,
 "nbformat_minor": 5
}
